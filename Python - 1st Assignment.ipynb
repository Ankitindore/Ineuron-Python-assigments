{
 "cells": [
  {
   "cell_type": "raw",
   "id": "61e93376",
   "metadata": {},
   "source": [
    "1. In the below elements which of them are values or an expression? eg:- values can be integer or string and expressions will be mathematical operators.\n",
    "* \n",
    "'hello'\n",
    "-87.8\n",
    "- \n",
    "/ \n",
    "+\t\n",
    "6 \n",
    "Ans : * is an Expressions\n",
    "      \"hello\" is Value\n",
    "      -87.8 is a Value\n",
    "      - is an Expressions\n",
    "      / is an Expressions\n",
    "      + is an Expressions\n",
    "      6 is a Value "
   ]
  },
  {
   "cell_type": "raw",
   "id": "a2d6b627",
   "metadata": {},
   "source": [
    "2. What is the difference between string and variable?\n",
    "\n",
    "Ans. A variable is basically the name of the location in the primary memory of your computer. This can be chosen by you. A variable can store everything from strings to numbers. A string is the values inside the quotes assigned to a string.\n",
    "\n",
    "In other way,  A string is a type of variable. Variables can be of several types like integer, floating point, string, boolean.\n",
    "\n",
    "A simple example would be:\n",
    "\n",
    "a = 1 \n",
    "name = \"Bob\" \n",
    "rich = True \n",
    "In the code example we have an integer, string and boolean. All of these are variables. String is just a type of variable.\n",
    "\n",
    "Python detects the type of variable automatically. A string is written between quotes (“)."
   ]
  },
  {
   "cell_type": "raw",
   "id": "e0c2d214",
   "metadata": {},
   "source": [
    "3. Describe three different data types.\n",
    "\n",
    "Ans. Integers, floating-point numbers, and strings."
   ]
  },
  {
   "cell_type": "raw",
   "id": "bdfd1bb4",
   "metadata": {},
   "source": [
    "4. What is an expression made up of? What do all expressions do?\n",
    "\n",
    "Ans. An expression is a combination of values, variables, operators, and calls to functions. Expressions need to be evaluated. If you ask Python to print an expression, the interpreter evaluates the expression and displays the result."
   ]
  },
  {
   "cell_type": "raw",
   "id": "10d33dbb",
   "metadata": {},
   "source": [
    "5. This assignment statements, like spam = 10. What is the difference between an expression and a statement?\n",
    "Ans. A statement is an instruction that the Python interpreter can execute. There are many kind of statement in Python like assignment statement, while statements, for statements, if statements, and import statements etc.\n",
    "\n",
    "An expression is a combination of values, variables, operators, and calls to functions. Expressions need to be evaluated. If you ask Python to print an expression, the interpreter evaluates the expression and displays the result.\n",
    "\n",
    "Example : \n",
    "print(1 + 1)\n",
    "print(len(\"hello\")) "
   ]
  },
  {
   "cell_type": "raw",
   "id": "d8df6b46",
   "metadata": {},
   "source": [
    "6. After running the following code, what does the variable bacon contain?\n",
    "bacon = 22\n",
    "bacon + 1\n",
    "Ans. 23"
   ]
  },
  {
   "cell_type": "raw",
   "id": "77f57e03",
   "metadata": {},
   "source": [
    "7. What should the values of the following two terms be?\n",
    "'spam' + 'spamspam'\n",
    "'spam' * 3\n",
    "Ans. 'spamspamspam'\n",
    "     'spamspamspam'"
   ]
  },
  {
   "cell_type": "raw",
   "id": "694d6342",
   "metadata": {},
   "source": [
    "8. Why is eggs a valid variable name while 100 is invalid?\n",
    "Ans. Variable names cannot begin with a number."
   ]
  },
  {
   "cell_type": "raw",
   "id": "eb55cb3a",
   "metadata": {},
   "source": [
    "9. What three functions can be used to get the integer, floating-point number, or string version of a value?\n",
    "Ans. The int(), float(), and str() functions will evaluate to the integer, floating-point number, and string versions of the value passed to them."
   ]
  },
  {
   "cell_type": "raw",
   "id": "77c5f06d",
   "metadata": {},
   "source": [
    "10. Why does this expression cause an error? How can you fix it?\n",
    "'I have eaten ' + 99 + ' burritos.'\n",
    "Ans. The expression causes an error because 99 is an integer, and only strings can be concatenated to other strings with the + operator. The correct way is I have eaten ' + str(99) + ' burritos.'"
   ]
  }
 ],
 "metadata": {
  "kernelspec": {
   "display_name": "Python 3 (ipykernel)",
   "language": "python",
   "name": "python3"
  },
  "language_info": {
   "codemirror_mode": {
    "name": "ipython",
    "version": 3
   },
   "file_extension": ".py",
   "mimetype": "text/x-python",
   "name": "python",
   "nbconvert_exporter": "python",
   "pygments_lexer": "ipython3",
   "version": "3.9.7"
  }
 },
 "nbformat": 4,
 "nbformat_minor": 5
}
